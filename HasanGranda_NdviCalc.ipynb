{
 "cells": [
  {
   "cell_type": "code",
   "execution_count": 5,
   "metadata": {},
   "outputs": [
    {
     "ename": "ModuleNotFoundError",
     "evalue": "No module named 'rasterio'",
     "output_type": "error",
     "traceback": [
      "\u001b[1;31m---------------------------------------------------------------------------\u001b[0m",
      "\u001b[1;31mModuleNotFoundError\u001b[0m                       Traceback (most recent call last)",
      "\u001b[1;32m<ipython-input-5-5b467a590e2e>\u001b[0m in \u001b[0;36m<module>\u001b[1;34m\u001b[0m\n\u001b[1;32m----> 1\u001b[1;33m \u001b[1;32mimport\u001b[0m \u001b[0mrasterio\u001b[0m\u001b[1;33m\u001b[0m\u001b[1;33m\u001b[0m\u001b[0m\n\u001b[0m\u001b[0;32m      2\u001b[0m \u001b[1;32mfrom\u001b[0m \u001b[0mrasterio\u001b[0m \u001b[1;32mimport\u001b[0m \u001b[0mplot\u001b[0m\u001b[1;33m\u001b[0m\u001b[1;33m\u001b[0m\u001b[0m\n\u001b[0;32m      3\u001b[0m \u001b[1;32mimport\u001b[0m \u001b[0mmatplotlib\u001b[0m\u001b[1;33m.\u001b[0m\u001b[0mpyplot\u001b[0m \u001b[1;32mas\u001b[0m \u001b[0mplt\u001b[0m\u001b[1;33m\u001b[0m\u001b[1;33m\u001b[0m\u001b[0m\n\u001b[0;32m      4\u001b[0m \u001b[1;32mimport\u001b[0m \u001b[0mnumpy\u001b[0m \u001b[1;32mas\u001b[0m \u001b[0mnp\u001b[0m\u001b[1;33m\u001b[0m\u001b[1;33m\u001b[0m\u001b[0m\n\u001b[0;32m      5\u001b[0m \u001b[0mget_ipython\u001b[0m\u001b[1;33m(\u001b[0m\u001b[1;33m)\u001b[0m\u001b[1;33m.\u001b[0m\u001b[0mrun_line_magic\u001b[0m\u001b[1;33m(\u001b[0m\u001b[1;34m'matplotlib'\u001b[0m\u001b[1;33m,\u001b[0m \u001b[1;34m'inline'\u001b[0m\u001b[1;33m)\u001b[0m\u001b[1;33m\u001b[0m\u001b[1;33m\u001b[0m\u001b[0m\n",
      "\u001b[1;31mModuleNotFoundError\u001b[0m: No module named 'rasterio'"
     ]
    }
   ],
   "source": [
    "import rasterio\n",
    "from rasterio import plot\n",
    "import matplotlib.pyplot as plt\n",
    "import numpy as np\n",
    "%matplotlib inline\n",
    "import os\n",
    "os.listdir('../Landast8/')\n",
    "\n",
    "#hata alıyorum onu düzeltmek için kullandım\n",
    "np.seterr(divide='ignore', invalid='ignore')\n",
    "\n",
    "\n",
    "#band4 ve band 5 i rasterla açıyoruz\n",
    "band4 = rasterio.open('../Landast8/LC08_L1TP_175034_20170417_20170501_01_T1_BANT4.TIF')\n",
    "band5 = rasterio.open('../Landast8/LC08_L1TP_175034_20170417_20170501_01_T1_BANT5.TIF')\n",
    "\n",
    "#raster satır sayısı\n",
    "band4.height\n",
    "\n",
    "#raster kolon sayısı\n",
    "band4.width\n",
    "\n",
    "#band4 ü göster \n",
    "plot.show(band4)\n",
    "\n",
    "band4.dtypes[0]\n",
    "\n",
    "band4.crs\n",
    "\n",
    "band4.transform\n",
    "\n",
    "#raster değerlerini matris de okumak için\n",
    "band4.read(1)\n",
    "\n",
    "fig, (ax1, ax2) = plt.subplots(1, 2, figsize=(12, 6))\n",
    "plot.show(band4, ax=ax1, cmap='Blues') #red\n",
    "plot.show(band5, ax=ax2, cmap='Blues') #nir\n",
    "fig.tight_layout()\n",
    "\n",
    "#bandları nir ve red adıyla float64 tipine çevir\n",
    "red = band4.read(1).astype('float64')\n",
    "nir = band5.read(1).astype('float64')\n",
    "\n",
    "nir\n",
    "\n",
    "#ndvi hesaplamada boş hücreler ya da data olmayan hücreleri sıfırla\n",
    "ndvi=np.where(\n",
    "    (nir+red)==0., \n",
    "    0, \n",
    "    (nir-red)/(nir+red))\n",
    "ndvi[:5,:5]\n",
    "\n",
    "#çıktı\n",
    "ndviImage = rasterio.open('../Output/ndviImage.tiff','w',driver='Gtiff',\n",
    "                          width=band4.width, \n",
    "                          height = band4.height, \n",
    "                          count=1, crs=band4.crs, \n",
    "                          transform=band4.transform, \n",
    "                          dtype='float64')\n",
    "ndviImage.write(ndvi,1)\n",
    "ndviImage.close()\n",
    "\n",
    "#çıktıyı göster\n",
    "ndvi = rasterio.open('../Output/ndviImage.tiff')\n",
    "fig = plt.figure(figsize=(18,12))\n",
    "plot.show(ndvi)"
   ]
  },
  {
   "cell_type": "code",
   "execution_count": null,
   "metadata": {},
   "outputs": [],
   "source": []
  },
  {
   "cell_type": "code",
   "execution_count": null,
   "metadata": {},
   "outputs": [],
   "source": []
  }
 ],
 "metadata": {
  "kernelspec": {
   "display_name": "Python 3",
   "language": "python",
   "name": "python3"
  },
  "language_info": {
   "codemirror_mode": {
    "name": "ipython",
    "version": 3
   },
   "file_extension": ".py",
   "mimetype": "text/x-python",
   "name": "python",
   "nbconvert_exporter": "python",
   "pygments_lexer": "ipython3",
   "version": "3.7.6"
  }
 },
 "nbformat": 4,
 "nbformat_minor": 4
}
